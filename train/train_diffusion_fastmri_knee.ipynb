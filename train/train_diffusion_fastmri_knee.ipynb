{
 "cells": [
  {
   "cell_type": "code",
   "execution_count": 1,
   "outputs": [
    {
     "name": "stdout",
     "output_type": "stream",
     "text": [
      "2.0.0\n",
      "device: cuda:0\n"
     ]
    }
   ],
   "source": [
    "import numpy as np\n",
    "import matplotlib.pyplot as plt\n",
    "import pathlib\n",
    "\n",
    "from torch.utils.data import DataLoader\n",
    "\n",
    "from utils.mri_data import SliceDataset\n",
    "from utils.data_transform import DataTransform_Diffusion\n",
    "from utils.sample_mask import RandomMaskGaussianDiffusion, RandomMaskDiffusion, RandomMaskDiffusion2D\n",
    "from utils.misc import *\n",
    "from help_func import print_var_detail\n",
    "\n",
    "from diffusion.kspace_diffusion import KspaceDiffusion\n",
    "from utils.diffusion_train import Trainer\n",
    "from net.u_net_diffusion import Unet\n",
    "\n",
    "print(torch.__version__)\n",
    "device = torch.device(\"cuda:0\" if torch.cuda.is_available() else \"cpu\")\n",
    "print('device:', device)"
   ],
   "metadata": {
    "collapsed": false
   }
  },
  {
   "cell_type": "code",
   "execution_count": 2,
   "outputs": [],
   "source": [
    "# ****** TRAINING SETTINGS ******\n",
    "# dataset settings\n",
    "acc = 8  # acceleration factor\n",
    "frac_c = 0.04  # center fraction\n",
    "path_dir_train = 'C:/TortoiseGitRepos/datasets/fastmri/knee_singlecoil_train_full/'\n",
    "path_dir_test = 'C:/TortoiseGitRepos/datasets/fastmri/knee_singlecoil_test_5/'\n",
    "img_mode = 'fastmri'  # 'fastmri' or 'B1000'\n",
    "bhsz = 6\n",
    "img_size = 320"
   ],
   "metadata": {
    "collapsed": false
   }
  },
  {
   "cell_type": "code",
   "execution_count": 3,
   "outputs": [
    {
     "name": "stdout",
     "output_type": "stream",
     "text": [
      "len dataloader train: 4331\n",
      "len dataloader test: 24\n"
     ]
    }
   ],
   "source": [
    "# ====== Construct dataset ======\n",
    "# initialize mask\n",
    "mask_func = RandomMaskDiffusion(\n",
    "    acceleration=acc,\n",
    "    center_fraction=frac_c,\n",
    "    size=(1, img_size, img_size),\n",
    ")\n",
    "\n",
    "# initialize dataset\n",
    "data_transform = DataTransform_Diffusion(\n",
    "    mask_func,\n",
    "    img_size=img_size,\n",
    "    combine_coil=True,\n",
    "    flag_singlecoil=True,\n",
    ")\n",
    "\n",
    "# training set\n",
    "dataset_train = SliceDataset(\n",
    "    root=pathlib.Path(path_dir_train),\n",
    "    transform=data_transform,\n",
    "    challenge='singlecoil',\n",
    "    num_skip_slice=5,\n",
    ")\n",
    "\n",
    "# test set\n",
    "dataset_test = SliceDataset(\n",
    "    root=pathlib.Path(path_dir_test),\n",
    "    transform=data_transform,\n",
    "    challenge='singlecoil',\n",
    "    num_skip_slice=5,\n",
    ")\n",
    "\n",
    "dataloader_train = DataLoader(dataset_train, batch_size=bhsz, shuffle=True)\n",
    "dataloader_test = DataLoader(dataset_test, batch_size=bhsz, shuffle=True)\n",
    "print('len dataloader train:', len(dataloader_train))\n",
    "print('len dataloader test:', len(dataloader_test))"
   ],
   "metadata": {
    "collapsed": false
   }
  },
  {
   "cell_type": "code",
   "execution_count": 4,
   "outputs": [
    {
     "name": "stdout",
     "output_type": "stream",
     "text": [
      "train_steps: 700000\n",
      "The new directory is created!\n"
     ]
    }
   ],
   "source": [
    "# model settings\n",
    "CH_MID = 64\n",
    "# training settings\n",
    "NUM_EPOCH = 50\n",
    "learning_rate = 2e-5\n",
    "time_steps = 1000\n",
    "train_steps = NUM_EPOCH * len(dataloader_train) # can be customized to a fixed number, however, it should reflect the dataset size.\n",
    "train_steps = max(train_steps, 700000)\n",
    "print('train_steps:',train_steps)\n",
    "# save settings\n",
    "PATH_MODEL = '../saved_models/fastmri_knee/diffusion_'+str(img_mode)+'_'+str(acc)+'x_T'+str(time_steps)+'_S'+str(train_steps)+'/'\n",
    "create_path(PATH_MODEL)"
   ],
   "metadata": {
    "collapsed": false
   }
  },
  {
   "cell_type": "code",
   "execution_count": 5,
   "outputs": [
    {
     "name": "stdout",
     "output_type": "stream",
     "text": [
      "Is Time embed used ?  True\n",
      "model size: 53.992 MB\n"
     ]
    }
   ],
   "source": [
    "# construct diffusion model\n",
    "save_folder=PATH_MODEL\n",
    "load_path=None\n",
    "blur_routine='Constant'\n",
    "train_routine='Final'\n",
    "sampling_routine='x0_step_down'\n",
    "discrete=False\n",
    "\n",
    "model = Unet(\n",
    "    dim=CH_MID,\n",
    "    dim_mults=(1, 2, 4, 8),\n",
    "    channels=2,\n",
    ").cuda()\n",
    "print('model size: %.3f MB' % (calc_model_size(model)))\n",
    "\n",
    "diffusion = KspaceDiffusion(\n",
    "    model,\n",
    "    image_size=img_size,\n",
    "    device_of_kernel='cuda',\n",
    "    channels=2,\n",
    "    timesteps=time_steps,  # number of steps\n",
    "    loss_type='l1',  # L1 or L2\n",
    "    blur_routine=blur_routine,\n",
    "    train_routine=train_routine,\n",
    "    sampling_routine=sampling_routine,\n",
    "    discrete=discrete,\n",
    ").cuda()"
   ],
   "metadata": {
    "collapsed": false
   }
  },
  {
   "cell_type": "code",
   "execution_count": 6,
   "outputs": [
    {
     "name": "stderr",
     "output_type": "stream",
     "text": [
      "Loss=0.025024:   7%|▋         | 50000/700000 [14:59:40<194:44:33,  1.08s/it]"
     ]
    },
    {
     "name": "stdout",
     "output_type": "stream",
     "text": [
      "Mean LOSS of last 50000: 0.030536408065250247\n"
     ]
    },
    {
     "name": "stderr",
     "output_type": "stream",
     "text": [
      "Loss=0.033956:  14%|█▍        | 100000/700000 [29:58:50<180:12:51,  1.08s/it]"
     ]
    },
    {
     "name": "stdout",
     "output_type": "stream",
     "text": [
      "Mean LOSS of last 100000: 0.02824772840021334\n"
     ]
    },
    {
     "name": "stderr",
     "output_type": "stream",
     "text": [
      "Loss=0.029280:  21%|██▏       | 150000/700000 [44:58:02<164:47:52,  1.08s/it]"
     ]
    },
    {
     "name": "stdout",
     "output_type": "stream",
     "text": [
      "Mean LOSS of last 150000: 0.027737283804487343\n"
     ]
    },
    {
     "name": "stderr",
     "output_type": "stream",
     "text": [
      "Loss=0.032013:  29%|██▊       | 200000/700000 [59:57:16<149:47:32,  1.08s/it]"
     ]
    },
    {
     "name": "stdout",
     "output_type": "stream",
     "text": [
      "Mean LOSS of last 200000: 0.027451257974741815\n"
     ]
    },
    {
     "name": "stderr",
     "output_type": "stream",
     "text": [
      "Loss=0.025078:  36%|███▌      | 250000/700000 [74:56:32<134:47:45,  1.08s/it]"
     ]
    },
    {
     "name": "stdout",
     "output_type": "stream",
     "text": [
      "Mean LOSS of last 250000: 0.027301116519325437\n"
     ]
    },
    {
     "name": "stderr",
     "output_type": "stream",
     "text": [
      "Loss=0.027049:  43%|████▎     | 300000/700000 [89:55:43<119:51:17,  1.08s/it]"
     ]
    },
    {
     "name": "stdout",
     "output_type": "stream",
     "text": [
      "Mean LOSS of last 300000: 0.027118284589739347\n"
     ]
    },
    {
     "name": "stderr",
     "output_type": "stream",
     "text": [
      "Loss=0.030720:  50%|█████     | 350000/700000 [104:56:26<105:21:45,  1.08s/it]"
     ]
    },
    {
     "name": "stdout",
     "output_type": "stream",
     "text": [
      "Mean LOSS of last 350000: 0.027003602703602584\n"
     ]
    },
    {
     "name": "stderr",
     "output_type": "stream",
     "text": [
      "Loss=0.037090:  57%|█████▋    | 400000/700000 [120:00:09<89:59:59,  1.08s/it] "
     ]
    },
    {
     "name": "stdout",
     "output_type": "stream",
     "text": [
      "Mean LOSS of last 400000: 0.0269293017467749\n"
     ]
    },
    {
     "name": "stderr",
     "output_type": "stream",
     "text": [
      "Loss=0.027362:  64%|██████▍   | 450000/700000 [135:00:52<75:13:27,  1.08s/it] "
     ]
    },
    {
     "name": "stdout",
     "output_type": "stream",
     "text": [
      "Mean LOSS of last 450000: 0.026847088519634285\n"
     ]
    },
    {
     "name": "stderr",
     "output_type": "stream",
     "text": [
      "Loss=0.024814:  71%|███████▏  | 500000/700000 [150:03:55<60:00:29,  1.08s/it]"
     ]
    },
    {
     "name": "stdout",
     "output_type": "stream",
     "text": [
      "Mean LOSS of last 500000: 0.02678951033015855\n"
     ]
    },
    {
     "name": "stderr",
     "output_type": "stream",
     "text": [
      "Loss=0.024843:  79%|███████▊  | 550000/700000 [165:04:12<45:03:46,  1.08s/it]"
     ]
    },
    {
     "name": "stdout",
     "output_type": "stream",
     "text": [
      "Mean LOSS of last 550000: 0.02675461437374003\n"
     ]
    },
    {
     "name": "stderr",
     "output_type": "stream",
     "text": [
      "Loss=0.025619:  86%|████████▌ | 600000/700000 [180:04:53<30:05:37,  1.08s/it]"
     ]
    },
    {
     "name": "stdout",
     "output_type": "stream",
     "text": [
      "Mean LOSS of last 600000: 0.026677783778203384\n"
     ]
    },
    {
     "name": "stderr",
     "output_type": "stream",
     "text": [
      "Loss=0.034037:  93%|█████████▎| 650000/700000 [195:12:44<14:59:03,  1.08s/it]"
     ]
    },
    {
     "name": "stdout",
     "output_type": "stream",
     "text": [
      "Mean LOSS of last 650000: 0.026614828608308633\n"
     ]
    },
    {
     "name": "stderr",
     "output_type": "stream",
     "text": [
      "Loss=0.038843: 100%|██████████| 700000/700000 [210:13:01<00:00,  1.08s/it]   \n"
     ]
    },
    {
     "name": "stdout",
     "output_type": "stream",
     "text": [
      "training completed\n"
     ]
    }
   ],
   "source": [
    "# construct trainer and train\n",
    "\n",
    "trainer = Trainer(\n",
    "    diffusion,\n",
    "    image_size=img_size,\n",
    "    train_batch_size=bhsz,\n",
    "    train_lr=learning_rate,\n",
    "    train_num_steps=train_steps,  # total training steps\n",
    "    gradient_accumulate_every=2,  # gradient accumulation steps\n",
    "    ema_decay=0.995,  # exponential moving average decay\n",
    "    fp16=False,  # turn on mixed precision training with apex\n",
    "    save_and_sample_every=50000,\n",
    "    results_folder=save_folder,\n",
    "    load_path=load_path,\n",
    "    dataloader_train=dataloader_train,\n",
    "    dataloader_test=dataloader_test,\n",
    ")\n",
    "trainer.train()"
   ],
   "metadata": {
    "collapsed": false
   }
  }
 ],
 "metadata": {
  "kernelspec": {
   "display_name": "Python 3",
   "language": "python",
   "name": "python3"
  },
  "language_info": {
   "codemirror_mode": {
    "name": "ipython",
    "version": 2
   },
   "file_extension": ".py",
   "mimetype": "text/x-python",
   "name": "python",
   "nbconvert_exporter": "python",
   "pygments_lexer": "ipython2",
   "version": "2.7.6"
  }
 },
 "nbformat": 4,
 "nbformat_minor": 0
}
